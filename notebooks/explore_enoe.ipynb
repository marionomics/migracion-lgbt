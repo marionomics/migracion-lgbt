{
 "cells": [
  {
   "cell_type": "code",
   "execution_count": 31,
   "metadata": {},
   "outputs": [],
   "source": [
    "import pandas as pd\n",
    "from samplics.estimation import TaylorEstimator\n",
    "\n",
    "available = pd.read_csv(\"../auxiliary/ENOE_available.csv\", names = [\"path\"]).path.to_list()\n",
    "columns = pd.read_csv(\"../auxiliary/columns.csv\").clave.to_list()\n",
    "columns = [x.lower() for x in columns]"
   ]
  },
  {
   "cell_type": "code",
   "execution_count": 32,
   "metadata": {},
   "outputs": [
    {
     "name": "stdout",
     "output_type": "stream",
     "text": [
      "['p2a_anio', 'ent', 'p4b', 'p3p1', 'p2_2', 'p3m8', 'upm', 'r_def', 'p1b', 'p3m2', 'p3q', 'p3m4', 'p3p2', 'p1a3', 'p3m7', 'p3o', 'p3r', 'fac', 'p2a_mes', 'p2_1', 'con', 'p3m6', 'p4a', 'p3m9', 'p1a1', 'h_mud', 'p1', 'p3m5', 'eda', 'p2_3', 'p1a2', 'cd_a', 'p3m1', 'p1c', 'p3m3']\n"
     ]
    },
    {
     "data": {
      "text/html": [
       "<div>\n",
       "<style scoped>\n",
       "    .dataframe tbody tr th:only-of-type {\n",
       "        vertical-align: middle;\n",
       "    }\n",
       "\n",
       "    .dataframe tbody tr th {\n",
       "        vertical-align: top;\n",
       "    }\n",
       "\n",
       "    .dataframe thead th {\n",
       "        text-align: right;\n",
       "    }\n",
       "</style>\n",
       "<table border=\"1\" class=\"dataframe\">\n",
       "  <thead>\n",
       "    <tr style=\"text-align: right;\">\n",
       "      <th></th>\n",
       "      <th>r_def</th>\n",
       "      <th>cd_a</th>\n",
       "      <th>ent</th>\n",
       "      <th>con</th>\n",
       "      <th>upm</th>\n",
       "      <th>h_mud</th>\n",
       "      <th>eda</th>\n",
       "      <th>p1</th>\n",
       "      <th>p1a1</th>\n",
       "      <th>p1a2</th>\n",
       "      <th>...</th>\n",
       "      <th>p3m8</th>\n",
       "      <th>p3m9</th>\n",
       "      <th>p3o</th>\n",
       "      <th>p3p1</th>\n",
       "      <th>p3p2</th>\n",
       "      <th>p3q</th>\n",
       "      <th>p3r</th>\n",
       "      <th>p4a</th>\n",
       "      <th>p4b</th>\n",
       "      <th>fac</th>\n",
       "    </tr>\n",
       "  </thead>\n",
       "  <tbody>\n",
       "    <tr>\n",
       "      <th>0</th>\n",
       "      <td>0</td>\n",
       "      <td>83</td>\n",
       "      <td>7</td>\n",
       "      <td>50071</td>\n",
       "      <td>703409</td>\n",
       "      <td>0</td>\n",
       "      <td>37</td>\n",
       "      <td>1</td>\n",
       "      <td></td>\n",
       "      <td></td>\n",
       "      <td>...</td>\n",
       "      <td></td>\n",
       "      <td></td>\n",
       "      <td>2</td>\n",
       "      <td></td>\n",
       "      <td></td>\n",
       "      <td>5</td>\n",
       "      <td>1</td>\n",
       "      <td>8130</td>\n",
       "      <td>3</td>\n",
       "      <td>507</td>\n",
       "    </tr>\n",
       "    <tr>\n",
       "      <th>1</th>\n",
       "      <td>0</td>\n",
       "      <td>83</td>\n",
       "      <td>7</td>\n",
       "      <td>50071</td>\n",
       "      <td>703409</td>\n",
       "      <td>0</td>\n",
       "      <td>37</td>\n",
       "      <td>2</td>\n",
       "      <td></td>\n",
       "      <td></td>\n",
       "      <td>...</td>\n",
       "      <td></td>\n",
       "      <td></td>\n",
       "      <td></td>\n",
       "      <td></td>\n",
       "      <td></td>\n",
       "      <td></td>\n",
       "      <td></td>\n",
       "      <td></td>\n",
       "      <td></td>\n",
       "      <td>507</td>\n",
       "    </tr>\n",
       "    <tr>\n",
       "      <th>2</th>\n",
       "      <td>0</td>\n",
       "      <td>83</td>\n",
       "      <td>7</td>\n",
       "      <td>50071</td>\n",
       "      <td>703409</td>\n",
       "      <td>0</td>\n",
       "      <td>14</td>\n",
       "      <td>2</td>\n",
       "      <td></td>\n",
       "      <td></td>\n",
       "      <td>...</td>\n",
       "      <td></td>\n",
       "      <td></td>\n",
       "      <td></td>\n",
       "      <td></td>\n",
       "      <td></td>\n",
       "      <td></td>\n",
       "      <td></td>\n",
       "      <td></td>\n",
       "      <td></td>\n",
       "      <td>507</td>\n",
       "    </tr>\n",
       "    <tr>\n",
       "      <th>3</th>\n",
       "      <td>0</td>\n",
       "      <td>82</td>\n",
       "      <td>7</td>\n",
       "      <td>50023</td>\n",
       "      <td>702635</td>\n",
       "      <td>0</td>\n",
       "      <td>40</td>\n",
       "      <td>1</td>\n",
       "      <td></td>\n",
       "      <td></td>\n",
       "      <td>...</td>\n",
       "      <td></td>\n",
       "      <td></td>\n",
       "      <td>2</td>\n",
       "      <td></td>\n",
       "      <td></td>\n",
       "      <td>2</td>\n",
       "      <td>3</td>\n",
       "      <td>6112</td>\n",
       "      <td>2</td>\n",
       "      <td>510</td>\n",
       "    </tr>\n",
       "    <tr>\n",
       "      <th>4</th>\n",
       "      <td>0</td>\n",
       "      <td>82</td>\n",
       "      <td>7</td>\n",
       "      <td>50023</td>\n",
       "      <td>702635</td>\n",
       "      <td>0</td>\n",
       "      <td>38</td>\n",
       "      <td>1</td>\n",
       "      <td></td>\n",
       "      <td></td>\n",
       "      <td>...</td>\n",
       "      <td></td>\n",
       "      <td></td>\n",
       "      <td></td>\n",
       "      <td></td>\n",
       "      <td></td>\n",
       "      <td></td>\n",
       "      <td>3</td>\n",
       "      <td>7221</td>\n",
       "      <td>4</td>\n",
       "      <td>510</td>\n",
       "    </tr>\n",
       "  </tbody>\n",
       "</table>\n",
       "<p>5 rows × 35 columns</p>\n",
       "</div>"
      ],
      "text/plain": [
       "   r_def  cd_a  ent    con     upm  h_mud  eda  p1 p1a1 p1a2  ... p3m8 p3m9  \\\n",
       "0      0    83    7  50071  703409      0   37   1            ...             \n",
       "1      0    83    7  50071  703409      0   37   2            ...             \n",
       "2      0    83    7  50071  703409      0   14   2            ...             \n",
       "3      0    82    7  50023  702635      0   40   1            ...             \n",
       "4      0    82    7  50023  702635      0   38   1            ...             \n",
       "\n",
       "  p3o p3p1 p3p2 p3q p3r   p4a p4b  fac  \n",
       "0   2             5   1  8130   3  507  \n",
       "1                                  507  \n",
       "2                                  507  \n",
       "3   2             2   3  6112   2  510  \n",
       "4                     3  7221   4  510  \n",
       "\n",
       "[5 rows x 35 columns]"
      ]
     },
     "execution_count": 32,
     "metadata": {},
     "output_type": "execute_result"
    }
   ],
   "source": [
    "path = \"data/ENOE/raw/2017t1/conjunto_de_datos_coe1_enoe_2017_1t/conjunto_de_datos/conjunto_de_datos_coe1_enoe_2017_1t.csv\"\n",
    "\n",
    "df = pd.read_csv('../'+path)\n",
    "\n",
    "interseccion = list(set(df.columns) & set(columns))\n",
    "df = pd.read_csv('../'+path, usecols=interseccion)\n",
    "print(interseccion)\n",
    "\n",
    "df.head()"
   ]
  },
  {
   "cell_type": "code",
   "execution_count": 28,
   "metadata": {},
   "outputs": [
    {
     "data": {
      "text/plain": [
       "p3o\n",
       "     188132\n",
       "1      2513\n",
       "2    115735\n",
       "dtype: int64"
      ]
     },
     "execution_count": 28,
     "metadata": {},
     "output_type": "execute_result"
    }
   ],
   "source": [
    "df.groupby(['p3o']).size()"
   ]
  },
  {
   "cell_type": "code",
   "execution_count": 30,
   "metadata": {},
   "outputs": [],
   "source": [
    "# WARNING: This takes a lot of time\n",
    "prec = TaylorEstimator(\"total\")\n",
    "prec.estimate(\n",
    "    y= df[\"p3o\"],\n",
    "    samp_weight=df['fac'],\n",
    "    psu=df['upm']\n",
    ")\n",
    "print(prec)"
   ]
  },
  {
   "cell_type": "code",
   "execution_count": null,
   "metadata": {},
   "outputs": [],
   "source": [
    "def results_estimation(estimator):\n",
    "    text = str(estimator).replace(' ','|')\n",
    "\n",
    "    # Transform to df\n",
    "    prec = pd.DataFrame([x.split('|') for x in text.split('\\n')])\n",
    "\n",
    "    # Eliminar primera fila\n",
    "    prec = prec.iloc[1:, 0:5]\n",
    "\n",
    "    columnas = {prec.columns[0]: 'tot',\n",
    "                prec.columns[1]: 'se',\n",
    "                prec.columns[2]: 'low',\n",
    "                prec.columns[3]: 'up',\n",
    "                prec.columns[4]: 'cv',}"
   ]
  },
  {
   "cell_type": "markdown",
   "metadata": {},
   "source": [
    "## Create dataset\n",
    "\n",
    "We need a dataset with a structure such as\n",
    "\n",
    "ent | year | quarter | em | unemp | mig | from_nem\n",
    "| --| :---:|:---:|:---:|:---:|:---:|:---:|\n",
    "dgo | 2017 | 1 | 0 | 0.23 | 0.12 | 0.1 |\n",
    "dgo | 2017 | 2 | 0 | 0.23 | 0.12 | 0.1 |\n",
    "dgo | 2017 | 3 | 0 | 0.23 | 0.12 | 0.1 |\n",
    "dgo | 2017 | 4 | 0 | 0.23 | 0.12 | 0.1 |\n",
    "dgo | 2018 | 1 | 0 | 0.23 | 0.12 | 0.1 |\n",
    "dgo | 2018 | 2 | 0 | 0.23 | 0.12 | 0.1 |\n",
    "dgo | 2018 | 3 | 0 | 0.23 | 0.12 | 0.1 |\n",
    "dgo | 2018 | 4 | 0 | 0.23 | 0.12 | 0.1 |\n",
    "cdmx | 2017 | 1 | 0 | 0.23 | 0.12 | 0.1 |\n",
    "cdmx | 2017 | 2 | 0 | 0.23 | 0.12 | 0.1 |\n",
    "cdmx | 2017 | 3 | 0 | 0.23 | 0.12 | 0.1 |\n",
    "cdmx | 2017 | 4 | 0 | 0.23 | 0.12 | 0.1 |\n"
   ]
  },
  {
   "cell_type": "code",
   "execution_count": 6,
   "metadata": {},
   "outputs": [],
   "source": [
    "import pandas as pd\n",
    "\n",
    "\n",
    "migrated_from_path = \"../data/ENOE/raw/2017t1/conjunto_de_datos_coe1_enoe_2017_1t/catalogos/p3p2.csv\"\n",
    "migrated_from = pd.read_csv(migrated_from_path, encoding='latin-1')\n",
    "migrated_from.to_csv(\"../auxiliary/destinations_mig.csv\")"
   ]
  },
  {
   "cell_type": "code",
   "execution_count": 33,
   "metadata": {},
   "outputs": [
    {
     "name": "stdout",
     "output_type": "stream",
     "text": [
      "(306380, 35)\n",
      "(118248, 35)\n"
     ]
    },
    {
     "data": {
      "text/plain": [
       "ent  p3o\n",
       "1    1        26\n",
       "     2      3830\n",
       "2    1        30\n",
       "     2      4078\n",
       "3    1       216\n",
       "            ... \n",
       "30   2      3211\n",
       "31   1        74\n",
       "     2      3447\n",
       "32   1       149\n",
       "     2      3403\n",
       "Length: 64, dtype: int64"
      ]
     },
     "execution_count": 33,
     "metadata": {},
     "output_type": "execute_result"
    }
   ],
   "source": [
    "# Lets only use people at work!\n",
    "print(df.shape)\n",
    "df = df[df['p3o'] != \" \"]\n",
    "print(df.shape)\n",
    "df.groupby(['ent','p3o']).size()"
   ]
  },
  {
   "cell_type": "code",
   "execution_count": 34,
   "metadata": {},
   "outputs": [
    {
     "data": {
      "text/plain": [
       "0.02125194506460997"
      ]
     },
     "execution_count": 34,
     "metadata": {},
     "output_type": "execute_result"
    }
   ],
   "source": [
    "df['p3o'] = 2- pd.to_numeric(df['p3o'])\n",
    "df['p3o'].mean()"
   ]
  },
  {
   "cell_type": "code",
   "execution_count": 37,
   "metadata": {},
   "outputs": [
    {
     "data": {
      "text/plain": [
       "ent\n",
       "1     0.006743\n",
       "2     0.007303\n",
       "3     0.069880\n",
       "4     0.021238\n",
       "5     0.028805\n",
       "6     0.029547\n",
       "7     0.009675\n",
       "8     0.008239\n",
       "9     0.014247\n",
       "10    0.027043\n",
       "11    0.007469\n",
       "12    0.016269\n",
       "13    0.016361\n",
       "14    0.007885\n",
       "15    0.003564\n",
       "16    0.012720\n",
       "17    0.006321\n",
       "18    0.028718\n",
       "19    0.027778\n",
       "20    0.038336\n",
       "21    0.010698\n",
       "22    0.014321\n",
       "23    0.052571\n",
       "24    0.020239\n",
       "25    0.017744\n",
       "26    0.036368\n",
       "27    0.041740\n",
       "28    0.037254\n",
       "29    0.011923\n",
       "30    0.015635\n",
       "31    0.021017\n",
       "32    0.041948\n",
       "Name: p3o, dtype: float64"
      ]
     },
     "execution_count": 37,
     "metadata": {},
     "output_type": "execute_result"
    }
   ],
   "source": [
    "df.groupby(['ent']).p3o.mean()"
   ]
  },
  {
   "cell_type": "code",
   "execution_count": null,
   "metadata": {},
   "outputs": [],
   "source": []
  }
 ],
 "metadata": {
  "kernelspec": {
   "display_name": "Python 3.9.5 64-bit",
   "language": "python",
   "name": "python3"
  },
  "language_info": {
   "codemirror_mode": {
    "name": "ipython",
    "version": 3
   },
   "file_extension": ".py",
   "mimetype": "text/x-python",
   "name": "python",
   "nbconvert_exporter": "python",
   "pygments_lexer": "ipython3",
   "version": "3.9.7"
  },
  "orig_nbformat": 4,
  "vscode": {
   "interpreter": {
    "hash": "aee8b7b246df8f9039afb4144a1f6fd8d2ca17a180786b69acc140d282b71a49"
   }
  }
 },
 "nbformat": 4,
 "nbformat_minor": 2
}
