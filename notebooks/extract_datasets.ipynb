{
 "cells": [
  {
   "cell_type": "markdown",
   "metadata": {},
   "source": [
    "# Extract Datasets\n",
    "\n",
    "In this notebook we load the dataset from ENOE. ENOE records the employment numbers and some important facts about it.\n",
    "\n",
    "We use `urllib.request` to use a request method to extract the dataset directly from INEGI and to load it directly in our disk. If the urls have not changed you should be able to extract the csv directly from the source and work it the same."
   ]
  },
  {
   "cell_type": "code",
   "execution_count": 2,
   "metadata": {},
   "outputs": [],
   "source": [
    "# Import the necessary modules\n",
    "import pandas as pd\n",
    "from samplics.estimation import TaylorEstimator\n",
    "from urllib.request import urlopen\n",
    "from zipfile import ZipFile\n",
    "from io import BytesIO\n"
   ]
  },
  {
   "cell_type": "code",
   "execution_count": 3,
   "metadata": {},
   "outputs": [
    {
     "name": "stdout",
     "output_type": "stream",
     "text": [
      "Oops, something went wrong while loading dataset of quarter 1 in year 2020\n",
      "Oops, something went wrong while loading dataset of quarter 2 in year 2020\n",
      "Oops, something went wrong while loading dataset of quarter 2 in year 2022\n",
      "Oops, something went wrong while loading dataset of quarter 3 in year 2022\n",
      "Oops, something went wrong while loading dataset of quarter 4 in year 2022\n"
     ]
    }
   ],
   "source": [
    "# Extract and download from ENOE_N (post-covid)\n",
    "# Extraer los datos de la ENOE N\n",
    "\n",
    "for year in range(2020,2023):\n",
    "    for trimestre in range(1,5):\n",
    "        url = \"https://www.inegi.org.mx/contenidos/programas/enoe/15ymas/microdatos/enoe_n_\"+str(year)+\"_trim\"+str(trimestre)+\"_csv.zip\"\n",
    "        \n",
    "        try:\n",
    "            resp = urlopen(url)\n",
    "            zipfile = ZipFile(BytesIO(resp.read()))\n",
    "            zipfile.extractall(\"../data/ENOE_N\")\n",
    "        except:\n",
    "            print(\"Oops, something went wrong while loading dataset of quarter \" + str(trimestre)+ \" in year \" + str(year))\n"
   ]
  },
  {
   "cell_type": "code",
   "execution_count": 4,
   "metadata": {},
   "outputs": [
    {
     "name": "stdout",
     "output_type": "stream",
     "text": [
      "Oops, something went wrong while loading dataset of quarter 2 in year 2020\n",
      "Oops, something went wrong while loading dataset of quarter 3 in year 2020\n",
      "Oops, something went wrong while loading dataset of quarter 4 in year 2020\n"
     ]
    }
   ],
   "source": [
    "# Extract and download from ENOE (before-covid)\n",
    "# Extraer los datos de la ENOE (antes de COVID)\n",
    "\n",
    "\n",
    "\"https://www.inegi.org.mx/contenidos/programas/enoe/15ymas/microdatos/2020trim1_csv.zip\"\n",
    "\n",
    "\n",
    "for year in range(2010,2021):\n",
    "    for trimestre in range(1,5):\n",
    "        url = \"https://www.inegi.org.mx/contenidos/programas/enoe/15ymas/microdatos/\"+str(year)+\"trim\"+str(trimestre)+\"_csv.zip\"\n",
    "        \n",
    "        try:\n",
    "            resp = urlopen(url)\n",
    "            zipfile = ZipFile(BytesIO(resp.read()))\n",
    "            zipfile.extractall(\"../data/ENOE\")\n",
    "        except:\n",
    "            print(\"Oops, something went wrong while loading dataset of quarter \" + str(trimestre)+ \" in year \" + str(year))\n"
   ]
  },
  {
   "cell_type": "code",
   "execution_count": 5,
   "metadata": {},
   "outputs": [],
   "source": [
    "# Extract ENDISEG and ENDISEG web\n",
    "\n",
    "# Function to extract data\n",
    "def extract_dataset(url, folder_name):\n",
    "    try:\n",
    "        resp = urlopen(url)\n",
    "        zipfile = ZipFile(BytesIO(resp.read()))\n",
    "        zipfile.extractall(\"../data/\"+folder_name)\n",
    "    except:\n",
    "        print(\"Hubo algún error al extraer la base de datos\")\n",
    "\n",
    "# ENDISEG WEB\n",
    "url = \"https://www.inegi.org.mx/contenidos/investigacion/endiseg/2022/datosabiertos/conjunto_de_datos_endiseg_web_2022_csv.zip\"\n",
    "extract_dataset(url, \"ENDISEG_WEB\")\n",
    "\n",
    "# ENDISEG\n",
    "url = \"https://www.inegi.org.mx/contenidos/programas/endiseg/2021/datosabiertos/conjunto_de_datos_endiseg_2021_csv.zip\"\n",
    "extract_dataset(url, \"ENDISEG\")"
   ]
  },
  {
   "cell_type": "markdown",
   "metadata": {},
   "source": [
    "## Notes\n",
    "So we load our datasets. Quarter 2 of 2020 is available through ETOE (the telephone version of enoe). Some of the errors from the last load also come from quarter 2 and 3, which are on ENOE_N"
   ]
  }
 ],
 "metadata": {
  "kernelspec": {
   "display_name": "Python 3.9.5 64-bit",
   "language": "python",
   "name": "python3"
  },
  "language_info": {
   "codemirror_mode": {
    "name": "ipython",
    "version": 3
   },
   "file_extension": ".py",
   "mimetype": "text/x-python",
   "name": "python",
   "nbconvert_exporter": "python",
   "pygments_lexer": "ipython3",
   "version": "3.9.5"
  },
  "orig_nbformat": 4,
  "vscode": {
   "interpreter": {
    "hash": "aee8b7b246df8f9039afb4144a1f6fd8d2ca17a180786b69acc140d282b71a49"
   }
  }
 },
 "nbformat": 4,
 "nbformat_minor": 2
}
